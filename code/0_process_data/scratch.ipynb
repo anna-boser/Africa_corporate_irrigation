{
 "cells": [
  {
   "cell_type": "code",
   "execution_count": 3,
   "metadata": {},
   "outputs": [],
   "source": [
    "import yaml\n",
    "import geopandas as gpd\n",
    "import os\n",
    "\n",
    "os.chdir('/Users/annaboser/Documents/GitHub/Africa_corporate_irrigation')\n",
    "\n",
    "# Load the configuration file\n",
    "with open('config.yaml', 'r') as f:\n",
    "    config = yaml.safe_load(f)"
   ]
  },
  {
   "cell_type": "code",
   "execution_count": 6,
   "metadata": {},
   "outputs": [
    {
     "name": "stdout",
     "output_type": "stream",
     "text": [
      "NAME_0\n",
      "South Africa    6774\n",
      "Libya            549\n",
      "Egypt            290\n",
      "Algeria          279\n",
      "Zimbabwe         245\n",
      "Morocco          150\n",
      "Zambia            94\n",
      "Namibia           44\n",
      "Madagascar        33\n",
      "Chad              32\n",
      "Burkina Faso      30\n",
      "Swaziland         25\n",
      "Botswana          11\n",
      "Mozambique         9\n",
      "Kenya              7\n",
      "Tunisia            4\n",
      "Senegal            2\n",
      "Angola             2\n",
      "Lesotho            1\n",
      "Name: count, dtype: int64\n"
     ]
    }
   ],
   "source": [
    "CPIS2000 = gpd.read_file(config[\"Africa_CPIS_2000_shp_path\"])\n",
    "CPIS2021 = gpd.read_file(config[\"Africa_CPIS_2021_shp_path\"])\n",
    "name_counts = CPIS2000['NAME_0'].value_counts()\n",
    "\n",
    "# Display the counts\n",
    "print(name_counts)"
   ]
  }
 ],
 "metadata": {
  "kernelspec": {
   "display_name": "irrigation",
   "language": "python",
   "name": "python3"
  },
  "language_info": {
   "codemirror_mode": {
    "name": "ipython",
    "version": 3
   },
   "file_extension": ".py",
   "mimetype": "text/x-python",
   "name": "python",
   "nbconvert_exporter": "python",
   "pygments_lexer": "ipython3",
   "version": "3.12.3"
  }
 },
 "nbformat": 4,
 "nbformat_minor": 2
}
